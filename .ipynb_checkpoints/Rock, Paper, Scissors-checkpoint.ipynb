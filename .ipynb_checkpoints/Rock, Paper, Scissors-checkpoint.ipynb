{
 "cells": [
  {
   "cell_type": "code",
   "execution_count": 2,
   "metadata": {},
   "outputs": [
    {
     "name": "stdout",
     "output_type": "stream",
     "text": [
      "Your move: r\n",
      "You:  r\n",
      "Me:  p\n",
      "Sorry,you lost\n",
      "player score:0\n",
      "computer score:1\n",
      "Your move: r\n",
      "You:  r\n",
      "Me:  p\n",
      "Sorry,you lost\n",
      "player score:0\n",
      "computer score:2\n",
      "Your move: p\n",
      "You:  p\n",
      "Me:  r\n",
      "You win\n",
      "player score:1\n",
      "computer score:2\n",
      "Your move: s\n",
      "You:  s\n",
      "Me:  p\n",
      "You win\n",
      "player score:2\n",
      "computer score:2\n",
      "Your move: p\n",
      "You:  p\n",
      "Me:  s\n",
      "Sorry,you lost\n",
      "player score:2\n",
      "computer score:3\n",
      "Your move: s\n",
      "You:  s\n",
      "Me:  s\n",
      "Tie\n",
      "player score:2\n",
      "computer score:3\n",
      "Your move: s\n",
      "You:  s\n",
      "Me:  s\n",
      "Tie\n",
      "player score:2\n",
      "computer score:3\n",
      "Your move: r\n",
      "You:  r\n",
      "Me:  s\n",
      "You win\n",
      "player score:3\n",
      "computer score:3\n",
      "Your move: q\n"
     ]
    }
   ],
   "source": [
    "import random \n",
    "\n",
    "moves = ['r','p','s']\n",
    "player_wins = ['pr','sp','rs']\n",
    "\n",
    "player_score = 0\n",
    "computer_score = 0 \n",
    "\n",
    "while True:\n",
    "    player_move = input(\"Your move: \")\n",
    "    if player_move == 'q':\n",
    "        break\n",
    "    computer_move = random.choice(moves)\n",
    "\n",
    "    print(\"You: \",player_move)\n",
    "    print(\"Me: \", computer_move)\n",
    "\n",
    "    if player_move == computer_move:\n",
    "        print(\"Tie\")\n",
    "\n",
    "    elif player_move + computer_move in player_wins:\n",
    "        print(\"You win\")\n",
    "        player_score = player_score + 1\n",
    "    else:\n",
    "        print(\"Sorry,you lost\")\n",
    "        computer_score = computer_score + 1 \n",
    "        \n",
    "    print(\"player score:\" + str (player_score))\n",
    "    print(\"computer score:\" + str (computer_score))\n",
    "        "
   ]
  },
  {
   "cell_type": "code",
   "execution_count": null,
   "metadata": {},
   "outputs": [],
   "source": []
  }
 ],
 "metadata": {
  "kernelspec": {
   "display_name": "Python 3",
   "language": "python",
   "name": "python3"
  },
  "language_info": {
   "codemirror_mode": {
    "name": "ipython",
    "version": 3
   },
   "file_extension": ".py",
   "mimetype": "text/x-python",
   "name": "python",
   "nbconvert_exporter": "python",
   "pygments_lexer": "ipython3",
   "version": "3.7.3"
  }
 },
 "nbformat": 4,
 "nbformat_minor": 2
}
