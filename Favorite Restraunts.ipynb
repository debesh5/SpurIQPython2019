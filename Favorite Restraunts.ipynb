{
 "cells": [
  {
   "cell_type": "code",
   "execution_count": 1,
   "metadata": {
    "scrolled": true
   },
   "outputs": [],
   "source": [
    "import sqlite3\n",
    "def createTable():\n",
    "    mydb = sqlite3.connect(\"mydatabase.db\")\n",
    "    mycursor = mydb.cursor()\n",
    "    mycursor.execute(\"Create Table FavRestraunt(id INTEGER PRIMARY KEY, Restraunt VARCHAR(255), foodType VARCHAR(255), Ranking VARCHAR(255))\")\n",
    "    mydb.close()\n",
    "\n",
    "def fillTable():\n",
    "    mydb = sqlite3.connect(\"mydatabase.db\")\n",
    "    mycursor = mydb.cursor()\n",
    "    sql = \"INSERT INTO FavRestraunt (Restraunt, foodType, Ranking) VALUES (?, ?, ?)\"\n",
    "    val = [\n",
    "    ('Taste of Rome','Italian','10/10'),\n",
    "    ('IHOP','American','9/10'),\n",
    "    ('Chick fil a', 'American','9/10'),\n",
    "    ('Bai Tong', 'Thai','9/10'),\n",
    "    ('Rubios','Mexican','8/10'),\n",
    "    ('BJs', 'European-American','8/10'),\n",
    "    ('Taco Bell','Mexican','8/10'),\n",
    "    ('Chipotle','Mexican','8/10'),\n",
    "    ('Dominos','Italian-American','8/10'),\n",
    "    ('China Wok','Chinese','7/10'),\n",
    "    ]\n",
    "    \n",
    "    mycursor.executemany(sql, val)\n",
    "    mydb.commit()\n",
    "    mydb.close()\n",
    "\n",
    "def viewTable():\n",
    "    mydb = sqlite3.connect(\"mydatabase.db\")\n",
    "    mycursor = mydb.cursor()\n",
    "    sql = \"SELECT * FROM FavRestraunt ORDER BY Restraunt\"\n",
    "    mycursor.execute(sql)\n",
    "    tableData = mycursor.fetchall()\n",
    "    for x in tableData:\n",
    "        print(x)\n",
    "    mydb.commit()\n",
    "    mydb.close()\n",
    "    \n",
    "def deleteTable():\n",
    "    mydb = sqlite3.connect(\"mydatabase.db\")\n",
    "    mycursor = mydb.cursor()\n",
    "    sql = \"DROP TABLE FavRestraunt\"\n",
    "    mycursor.execute(sql)\n",
    "    mydb.close()"
   ]
  },
  {
   "cell_type": "code",
   "execution_count": 2,
   "metadata": {},
   "outputs": [],
   "source": [
    "deleteTable()\n",
    "createTable()\n",
    "fillTable()"
   ]
  },
  {
   "cell_type": "code",
   "execution_count": 5,
   "metadata": {},
   "outputs": [
    {
     "data": {
      "application/vnd.jupyter.widget-view+json": {
       "model_id": "fca8c93edef449ab9855b7d5fbe42e19",
       "version_major": 2,
       "version_minor": 0
      },
      "text/plain": [
       "HBox(children=(Text(value='', description='Restraunt:', placeholder='Type something'), Text(value='', descript…"
      ]
     },
     "metadata": {},
     "output_type": "display_data"
    },
    {
     "data": {
      "application/vnd.jupyter.widget-view+json": {
       "model_id": "0d7fa801531f484cb91a2ed1f190cd3b",
       "version_major": 2,
       "version_minor": 0
      },
      "text/plain": [
       "Button(description='Add Restraunt', icon='check', style=ButtonStyle(), tooltip='Click me')"
      ]
     },
     "metadata": {},
     "output_type": "display_data"
    }
   ],
   "source": [
    "# Button\n",
    "import ipywidgets as widgets\n",
    "import random\n",
    "\n",
    "def addRestaurant(b):\n",
    "    mydb = sqlite3.connect(\"mydatabase.db\")\n",
    "    mycursor = mydb.cursor()\n",
    "    print(b)\n",
    "    restraunt = addRestrauntText.value\n",
    "    foodType = addTypeText.value\n",
    "    ranking = addRankingText.value\n",
    "    sql = \"INSERT INTO FavRestraunt (Restraunt, foodType, Ranking) VALUES (?, ?, ?)\"\n",
    "    val = [(restraunt,foodType,ranking),]\n",
    "    mycursor.executemany(sql,val)\n",
    "    mydb.commit()\n",
    "    viewTable()\n",
    "    addBox.close()\n",
    "    addRestrauntButton.close()\n",
    "\n",
    "addRestrauntText = widgets.Text(placeholder='Type something',description='Restraunt:')\n",
    "addRankingText = widgets.Text(placeholder='Type something',description='Ranking:')\n",
    "addTypeText = widgets.Text(placeholder='Type something',description='Type of food:')\n",
    "addBox = widgets.HBox([addRestrauntText,addRankingText,addTypeText])\n",
    "addRestrauntButton = widgets.Button(description='Add Restraunt',tooltip='Click me',icon='check')\n",
    "\n",
    "display(addBox)\n",
    "display(addRestrauntButton)\n",
    "\n",
    "addRestrauntButton.on_click(addRestaurant)\n",
    "\n",
    "\n",
    "\n",
    "#make a button that adds restruant\n",
    "#make a text box that will take in the restruant name and the value\n",
    "#when you click button, then the restruant into table\n",
    "\n",
    "#follow these steps for other buttons you have"
   ]
  },
  {
   "cell_type": "code",
   "execution_count": 6,
   "metadata": {},
   "outputs": [
    {
     "name": "stdout",
     "output_type": "stream",
     "text": [
      "(6, 'BJs', 'European-American', '8/10')\n",
      "(4, 'Bai Tong', 'Thai', '9/10')\n",
      "(3, 'Chick fil a', 'American', '9/10')\n",
      "(10, 'China Wok', 'Chinese', '7/10')\n",
      "(8, 'Chipotle', 'Mexican', '8/10')\n",
      "(9, 'Dominos', 'Italian-American', '8/10')\n",
      "(2, 'IHOP', 'American', '9/10')\n",
      "(5, 'Rubios', 'Mexican', '8/10')\n",
      "(7, 'Taco Bell', 'Mexican', '8/10')\n",
      "(1, 'Taste of Rome', 'Italian', '10/10')\n",
      "(11, 'd', 'd', '3/10')\n"
     ]
    }
   ],
   "source": [
    "viewTable()"
   ]
  },
  {
   "cell_type": "code",
   "execution_count": null,
   "metadata": {},
   "outputs": [],
   "source": []
  }
 ],
 "metadata": {
  "kernelspec": {
   "display_name": "Python 3",
   "language": "python",
   "name": "python3"
  },
  "language_info": {
   "codemirror_mode": {
    "name": "ipython",
    "version": 3
   },
   "file_extension": ".py",
   "mimetype": "text/x-python",
   "name": "python",
   "nbconvert_exporter": "python",
   "pygments_lexer": "ipython3",
   "version": "3.7.3"
  }
 },
 "nbformat": 4,
 "nbformat_minor": 2
}
