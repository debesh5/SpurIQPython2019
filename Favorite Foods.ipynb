{
 "cells": [
  {
   "cell_type": "code",
   "execution_count": 1,
   "metadata": {},
   "outputs": [
    {
     "name": "stdout",
     "output_type": "stream",
     "text": [
      "['burrito', 'chester fries', 'chicken', 'goat', 'potatoes', 'quesadilla']\n"
     ]
    }
   ],
   "source": [
    "list = [\"burrito\",\"chester fries\",\"chicken\",\"goat\",\"potatoes\",\"quesadilla\"]\n",
    "print(list)"
   ]
  },
  {
   "cell_type": "code",
   "execution_count": 2,
   "metadata": {},
   "outputs": [
    {
     "name": "stdout",
     "output_type": "stream",
     "text": [
      "{'pizza', 'italian ice', 'pasta'}\n"
     ]
    }
   ],
   "source": [
    "tuple = (\"italian ice\",\"pasta\",\"pizza\")\n",
    "print (tuple)"
   ]
  },
  {
   "cell_type": "code",
   "execution_count": 4,
   "metadata": {},
   "outputs": [
    {
     "name": "stdout",
     "output_type": "stream",
     "text": [
      "{'lemomade', 'ice cream', 'donuts'}\n"
     ]
    }
   ],
   "source": [
    "set = {\"donuts\",\"ice cream\",\"lemomade\"}\n",
    "print(set)"
   ]
  },
  {
   "cell_type": "code",
   "execution_count": 9,
   "metadata": {},
   "outputs": [
    {
     "name": "stdout",
     "output_type": "stream",
     "text": [
      "{'best': 'burrito', 'desert': 'pizookie'}\n"
     ]
    }
   ],
   "source": [
    "thisdict = {\n",
    "   \"best\" : \"burrito\",\n",
    "    \"desert\" : \"pizookie\"\n",
    "}\n",
    "print(thisdict)\n"
   ]
  },
  {
   "cell_type": "code",
   "execution_count": null,
   "metadata": {},
   "outputs": [],
   "source": []
  },
  {
   "cell_type": "code",
   "execution_count": null,
   "metadata": {},
   "outputs": [],
   "source": []
  },
  {
   "cell_type": "code",
   "execution_count": null,
   "metadata": {},
   "outputs": [],
   "source": []
  }
 ],
 "metadata": {
  "kernelspec": {
   "display_name": "Python 3",
   "language": "python",
   "name": "python3"
  },
  "language_info": {
   "codemirror_mode": {
    "name": "ipython",
    "version": 3
   },
   "file_extension": ".py",
   "mimetype": "text/x-python",
   "name": "python",
   "nbconvert_exporter": "python",
   "pygments_lexer": "ipython3",
   "version": "3.7.3"
  }
 },
 "nbformat": 4,
 "nbformat_minor": 2
}
